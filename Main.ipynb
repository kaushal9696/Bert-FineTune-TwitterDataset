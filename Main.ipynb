{
 "cells": [
  {
   "cell_type": "code",
   "execution_count": 20,
   "id": "4f0d016c",
   "metadata": {},
   "outputs": [],
   "source": [
    "import pandas as pd\n",
    "import numpy as np\n",
    "import tensorflow as tf\n",
    "from transformers import AutoTokenizer, TFAutoModelForSequenceClassification, TFTrainer, TFTrainingArguments\n",
    "from transformers import DistilBertTokenizerFast\n",
    "from sklearn.metrics import classification_report, confusion_matrix, ConfusionMatrixDisplay\n",
    "from sklearn.model_selection import train_test_split\n",
    "import matplotlib.pyplot as plt\n",
    "import warnings\n",
    "import seaborn as sns\n",
    "\n",
    "warnings.filterwarnings('ignore')\n",
    "%matplotlib inline"
   ]
  },
  {
   "cell_type": "code",
   "execution_count": 2,
   "id": "01b0ac88",
   "metadata": {},
   "outputs": [],
   "source": [
    "training_data = pd.read_csv(\"Corona_NLP_train.csv\", encoding = \"ISO-8859-1\")\n",
    "testing_data = pd.read_csv(\"Corona_NLP_test.csv\", encoding = \"ISO-8859-1\")"
   ]
  },
  {
   "cell_type": "code",
   "execution_count": 3,
   "id": "36a4f796",
   "metadata": {},
   "outputs": [],
   "source": [
    "def ConvertToNumeric(x):\n",
    "    if x == \"Positive\":\n",
    "        return 3\n",
    "    elif x == \"Extremely Positive\":\n",
    "        return 4\n",
    "    elif x == \"Neutral\":\n",
    "        return 2\n",
    "    elif x == \"Negative\":\n",
    "        return 1\n",
    "    else:\n",
    "        return 0\n",
    "\n",
    "def preprocess(text):\n",
    "    new_text = []\n",
    "\n",
    "\n",
    "    for t in text.split(\" \"):\n",
    "        t = '@user' if t.startswith('@') and len(t) > 1 else t\n",
    "        t = 'http' if t.startswith('http') else t\n",
    "        new_text.append(t)\n",
    "    return \" \".join(new_text)"
   ]
  },
  {
   "cell_type": "code",
   "execution_count": 4,
   "id": "0ec702e9",
   "metadata": {},
   "outputs": [],
   "source": [
    "training_data.drop([\"UserName\", \"ScreenName\", \"Location\", \"TweetAt\"], axis = 1, inplace=True)\n",
    "training_data.Sentiment = training_data.Sentiment.apply(ConvertToNumeric)\n",
    "training_data.OriginalTweet = training_data.OriginalTweet.apply(preprocess)\n",
    "\n",
    "testing_data.drop([\"UserName\", \"ScreenName\", \"Location\", \"TweetAt\"], axis = 1, inplace=True)\n",
    "testing_data.Sentiment = testing_data.Sentiment.apply(ConvertToNumeric)\n",
    "testing_data.OriginalTweet = testing_data.OriginalTweet.apply(preprocess)\n",
    "\n",
    "training_data.dropna(inplace=True)\n",
    "testing_data.dropna(inplace=True)"
   ]
  },
  {
   "cell_type": "code",
   "execution_count": 5,
   "id": "2421c36e",
   "metadata": {},
   "outputs": [],
   "source": [
    "X_training_data = training_data.drop([\"Sentiment\"], axis = 1)\n",
    "# Y_training_data = tf.keras.utils.to_categorical(training_data.Sentiment)\n",
    "Y_training_data = training_data.Sentiment\n",
    "\n",
    "X_testing_data = testing_data.drop([\"Sentiment\"], axis = 1)\n",
    "# Y_testing_data = tf.keras.utils.to_categorical(testing_data.Sentiment)\n",
    "Y_testing_data = testing_data.Sentiment"
   ]
  },
  {
   "cell_type": "code",
   "execution_count": 6,
   "id": "17d8923e",
   "metadata": {},
   "outputs": [],
   "source": [
    "Training_data_list = []\n",
    "Testing_data_list = []\n",
    "\n",
    "for i in X_training_data.values:\n",
    "    for j in i:\n",
    "        if j != None:\n",
    "            Training_data_list.append(j)\n",
    "\n",
    "for i in X_testing_data.values:\n",
    "    for j in i:\n",
    "        if j != None:\n",
    "            Testing_data_list.append(j)"
   ]
  },
  {
   "cell_type": "code",
   "execution_count": 7,
   "id": "c1df8cc9",
   "metadata": {},
   "outputs": [],
   "source": [
    "X_train, X_val, y_train, y_val = train_test_split(Training_data_list, Y_training_data, test_size = 0.1,\n",
    "                                                  random_state=4, stratify=Y_training_data)"
   ]
  },
  {
   "cell_type": "code",
   "execution_count": 8,
   "id": "58be1808",
   "metadata": {},
   "outputs": [],
   "source": [
    "from transformers import DistilBertTokenizerFast\n",
    "tokenizer = DistilBertTokenizerFast.from_pretrained('distilbert-base-uncased')"
   ]
  },
  {
   "cell_type": "code",
   "execution_count": 9,
   "id": "ee02c83a",
   "metadata": {},
   "outputs": [],
   "source": [
    "train_encodings = tokenizer(X_train, truncation=True, padding=True, max_length=256)\n",
    "val_encodings = tokenizer(X_val, truncation=True, padding=True, max_length=256)\n",
    "test_encodings = tokenizer(Testing_data_list, truncation=True, padding=True, max_length=256)"
   ]
  },
  {
   "cell_type": "code",
   "execution_count": 10,
   "id": "05260c3b",
   "metadata": {},
   "outputs": [],
   "source": [
    "training_dataset_final = tf.data.Dataset.from_tensor_slices((dict(train_encodings), y_train))\n",
    "validation_dataset_final = tf.data.Dataset.from_tensor_slices((dict(val_encodings), y_val))\n",
    "testing_dataset_final = tf.data.Dataset.from_tensor_slices((dict(test_encodings), Y_testing_data))"
   ]
  },
  {
   "cell_type": "code",
   "execution_count": 11,
   "id": "564220fd",
   "metadata": {},
   "outputs": [
    {
     "name": "stderr",
     "output_type": "stream",
     "text": [
      "Some layers from the model checkpoint at distilbert-base-uncased were not used when initializing TFDistilBertForSequenceClassification: ['vocab_transform', 'vocab_projector', 'vocab_layer_norm', 'activation_13']\n",
      "- This IS expected if you are initializing TFDistilBertForSequenceClassification from the checkpoint of a model trained on another task or with another architecture (e.g. initializing a BertForSequenceClassification model from a BertForPreTraining model).\n",
      "- This IS NOT expected if you are initializing TFDistilBertForSequenceClassification from the checkpoint of a model that you expect to be exactly identical (initializing a BertForSequenceClassification model from a BertForSequenceClassification model).\n",
      "Some layers of TFDistilBertForSequenceClassification were not initialized from the model checkpoint at distilbert-base-uncased and are newly initialized: ['pre_classifier', 'classifier', 'dropout_19']\n",
      "You should probably TRAIN this model on a down-stream task to be able to use it for predictions and inference.\n"
     ]
    }
   ],
   "source": [
    "from transformers import TFDistilBertForSequenceClassification\n",
    "model = TFDistilBertForSequenceClassification.from_pretrained('distilbert-base-uncased', num_labels = 5)"
   ]
  },
  {
   "cell_type": "code",
   "execution_count": 12,
   "id": "e6420c63",
   "metadata": {},
   "outputs": [
    {
     "name": "stdout",
     "output_type": "stream",
     "text": [
      "Epoch 1/3\n",
      "WARNING:tensorflow:The parameters `output_attentions`, `output_hidden_states` and `use_cache` cannot be updated when calling a model.They have to be set to True/False in the config object (i.e.: `config=XConfig.from_pretrained('name', output_attentions=True)`).\n",
      "WARNING:tensorflow:AutoGraph could not transform <bound method Socket.send of <zmq.Socket(zmq.PUSH) at 0x187c35ec820>> and will run it as-is.\n",
      "Please report this to the TensorFlow team. When filing the bug, set the verbosity to 10 (on Linux, `export AUTOGRAPH_VERBOSITY=10`) and attach the full output.\n",
      "Cause: module, class, method, function, traceback, frame, or code object was expected, got cython_function_or_method\n",
      "To silence this warning, decorate the function with @tf.autograph.experimental.do_not_convert\n",
      "WARNING: AutoGraph could not transform <bound method Socket.send of <zmq.Socket(zmq.PUSH) at 0x187c35ec820>> and will run it as-is.\n",
      "Please report this to the TensorFlow team. When filing the bug, set the verbosity to 10 (on Linux, `export AUTOGRAPH_VERBOSITY=10`) and attach the full output.\n",
      "Cause: module, class, method, function, traceback, frame, or code object was expected, got cython_function_or_method\n",
      "To silence this warning, decorate the function with @tf.autograph.experimental.do_not_convert\n",
      "WARNING:tensorflow:The parameter `return_dict` cannot be set in graph mode and will always be set to `True`.\n",
      "WARNING:tensorflow:The parameters `output_attentions`, `output_hidden_states` and `use_cache` cannot be updated when calling a model.They have to be set to True/False in the config object (i.e.: `config=XConfig.from_pretrained('name', output_attentions=True)`).\n",
      "WARNING:tensorflow:The parameter `return_dict` cannot be set in graph mode and will always be set to `True`.\n",
      "2316/2316 [==============================] - 428s 182ms/step - loss: 0.6989 - accuracy: 0.7249\n",
      "Epoch 2/3\n",
      "2316/2316 [==============================] - 424s 183ms/step - loss: 0.3720 - accuracy: 0.8664\n",
      "Epoch 3/3\n",
      "2316/2316 [==============================] - 428s 185ms/step - loss: 0.2664 - accuracy: 0.9057\n"
     ]
    },
    {
     "data": {
      "text/plain": [
       "<keras.callbacks.History at 0x187b8174df0>"
      ]
     },
     "execution_count": 12,
     "metadata": {},
     "output_type": "execute_result"
    }
   ],
   "source": [
    "optimizer = tf.keras.optimizers.Adam(learning_rate=5e-5)\n",
    "model.compile(optimizer=optimizer, loss=model.compute_loss, metrics=[\"accuracy\"]) # can also use any keras loss fn\n",
    "model.fit(training_dataset_final.shuffle(1000).batch(16), epochs=3, batch_size=16)"
   ]
  },
  {
   "cell_type": "code",
   "execution_count": 13,
   "id": "9c7476f9",
   "metadata": {},
   "outputs": [
    {
     "name": "stdout",
     "output_type": "stream",
     "text": [
      "WARNING:tensorflow:The parameters `output_attentions`, `output_hidden_states` and `use_cache` cannot be updated when calling a model.They have to be set to True/False in the config object (i.e.: `config=XConfig.from_pretrained('name', output_attentions=True)`).\n",
      "WARNING:tensorflow:The parameter `return_dict` cannot be set in graph mode and will always be set to `True`.\n",
      "258/258 [==============================] - 16s 60ms/step - loss: 0.6061 - accuracy: 0.8088\n"
     ]
    },
    {
     "data": {
      "text/plain": [
       "[0.606127917766571, 0.8087949752807617]"
      ]
     },
     "execution_count": 13,
     "metadata": {},
     "output_type": "execute_result"
    }
   ],
   "source": [
    "model.evaluate(validation_dataset_final.batch(16))"
   ]
  },
  {
   "cell_type": "code",
   "execution_count": 14,
   "id": "ba0fa49c",
   "metadata": {},
   "outputs": [
    {
     "name": "stdout",
     "output_type": "stream",
     "text": [
      "WARNING:tensorflow:The parameters `output_attentions`, `output_hidden_states` and `use_cache` cannot be updated when calling a model.They have to be set to True/False in the config object (i.e.: `config=XConfig.from_pretrained('name', output_attentions=True)`).\n",
      "WARNING:tensorflow:The parameter `return_dict` cannot be set in graph mode and will always be set to `True`.\n",
      "238/238 [==============================] - 9s 35ms/step - loss: 0.7145 - accuracy: 0.7770\n"
     ]
    },
    {
     "data": {
      "text/plain": [
       "[0.7144994735717773, 0.7769879102706909]"
      ]
     },
     "execution_count": 14,
     "metadata": {},
     "output_type": "execute_result"
    }
   ],
   "source": [
    "model.evaluate(testing_dataset_final.batch(16))"
   ]
  },
  {
   "cell_type": "code",
   "execution_count": 15,
   "id": "3a2294b6",
   "metadata": {},
   "outputs": [
    {
     "name": "stdout",
     "output_type": "stream",
     "text": [
      "WARNING:tensorflow:The parameters `output_attentions`, `output_hidden_states` and `use_cache` cannot be updated when calling a model.They have to be set to True/False in the config object (i.e.: `config=XConfig.from_pretrained('name', output_attentions=True)`).\n",
      "WARNING:tensorflow:The parameter `return_dict` cannot be set in graph mode and will always be set to `True`.\n"
     ]
    }
   ],
   "source": [
    "output = model.predict(testing_dataset_final.batch(16))"
   ]
  },
  {
   "cell_type": "code",
   "execution_count": 16,
   "id": "3313140b",
   "metadata": {},
   "outputs": [],
   "source": [
    "y_pred = np.argmax(output.logits, axis = 1)"
   ]
  },
  {
   "cell_type": "code",
   "execution_count": 23,
   "id": "8428148b",
   "metadata": {},
   "outputs": [
    {
     "data": {
      "text/plain": [
       "<AxesSubplot:>"
      ]
     },
     "execution_count": 23,
     "metadata": {},
     "output_type": "execute_result"
    },
    {
     "data": {
      "image/png": "[encoded data removed]",
      "text/plain": [
       "<Figure size 432x288 with 2 Axes>"
      ]
     },
     "metadata": {
      "needs_background": "light"
     },
     "output_type": "display_data"
    }
   ],
   "source": [
    "clf_report = classification_report(Y_testing_data, y_pred, output_dict=True)\n",
    "sns.heatmap(pd.DataFrame(clf_report).iloc[:-1, :].T, annot=True)"
   ]
  },
  {
   "cell_type": "code",
   "execution_count": 18,
   "id": "37c239ff",
   "metadata": {},
   "outputs": [
    {
     "data": {
      "text/plain": [
       "<sklearn.metrics._plot.confusion_matrix.ConfusionMatrixDisplay at 0x187b8174070>"
      ]
     },
     "execution_count": 18,
     "metadata": {},
     "output_type": "execute_result"
    },
    {
     "data": {
      "image/png": "[encoded data removed]",
      "text/plain": [
       "<Figure size 432x288 with 2 Axes>"
      ]
     },
     "metadata": {
      "needs_background": "light"
     },
     "output_type": "display_data"
    }
   ],
   "source": [
    "disp = ConfusionMatrixDisplay(confusion_matrix(Y_testing_data, y_pred))\n",
    "disp.plot()"
   ]
  },
  {
   "cell_type": "code",
   "execution_count": null,
   "id": "deaa54e3",
   "metadata": {},
   "outputs": [],
   "source": []
  }
 ],
 "metadata": {
  "kernelspec": {
   "display_name": "Python 3",
   "language": "python",
   "name": "python3"
  },
  "language_info": {
   "codemirror_mode": {
    "name": "ipython",
    "version": 3
   },
   "file_extension": ".py",
   "mimetype": "text/x-python",
   "name": "python",
   "nbconvert_exporter": "python",
   "pygments_lexer": "ipython3",
   "version": "3.8.0"
  }
 },
 "nbformat": 4,
 "nbformat_minor": 5
}
